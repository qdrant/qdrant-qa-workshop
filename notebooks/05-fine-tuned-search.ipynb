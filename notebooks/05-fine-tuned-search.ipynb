{
 "cells": [
  {
   "cell_type": "markdown",
   "id": "51ad9376",
   "metadata": {},
   "source": [
    "# 05. Fine-tuned search\n",
    "\n",
    "We have a new model, a fine-tuned version of the original one. It's high time to determine if we were able to achieve some better results. We'll be still using the top-k-accuracy metric, so we can compare the new model performance."
   ]
  },
  {
   "cell_type": "code",
   "execution_count": null,
   "id": "9d307923",
   "metadata": {
    "ExecuteTime": {
     "end_time": "2022-11-02T15:56:20.107117Z",
     "start_time": "2022-11-02T15:56:19.160043Z"
    }
   },
   "outputs": [],
   "source": [
    "from quaterion_models.model import SimilarityModel"
   ]
  },
  {
   "cell_type": "code",
   "execution_count": null,
   "id": "b7925fe0",
   "metadata": {
    "ExecuteTime": {
     "end_time": "2022-11-02T15:56:22.421969Z",
     "start_time": "2022-11-02T15:56:20.110211Z"
    }
   },
   "outputs": [],
   "source": [
    "tweets_qa_model = SimilarityModel.load(\"tweets_qa_servable\")"
   ]
  },
  {
   "cell_type": "code",
   "execution_count": null,
   "id": "f7822dfc",
   "metadata": {
    "ExecuteTime": {
     "end_time": "2022-11-02T15:56:22.886291Z",
     "start_time": "2022-11-02T15:56:22.424786Z"
    }
   },
   "outputs": [],
   "source": [
    "import qdrant_client"
   ]
  },
  {
   "cell_type": "code",
   "execution_count": null,
   "id": "1351ddb7",
   "metadata": {
    "ExecuteTime": {
     "end_time": "2022-11-02T15:56:23.041274Z",
     "start_time": "2022-11-02T15:56:22.891166Z"
    }
   },
   "outputs": [],
   "source": [
    "client = qdrant_client.QdrantClient(\n",
    "    host=\"localhost\", port=6333, timeout=30\n",
    ")"
   ]
  },
  {
   "cell_type": "code",
   "execution_count": null,
   "id": "ed24a545",
   "metadata": {
    "ExecuteTime": {
     "end_time": "2022-11-02T15:56:23.641956Z",
     "start_time": "2022-11-02T15:56:23.044219Z"
    }
   },
   "outputs": [],
   "source": [
    "from datasets import load_dataset\n",
    "\n",
    "import pandas as pd"
   ]
  },
  {
   "cell_type": "code",
   "execution_count": null,
   "id": "db9a48ae",
   "metadata": {
    "ExecuteTime": {
     "end_time": "2022-11-02T15:56:27.311950Z",
     "start_time": "2022-11-02T15:56:23.645036Z"
    }
   },
   "outputs": [],
   "source": [
    "tweet_qa_dataset = load_dataset(\"tweet_qa\")\n",
    "train_df = pd.DataFrame(tweet_qa_dataset[\"train\"])"
   ]
  },
  {
   "cell_type": "code",
   "execution_count": null,
   "id": "bd409d8d",
   "metadata": {
    "ExecuteTime": {
     "end_time": "2022-11-02T15:56:27.317622Z",
     "start_time": "2022-11-02T15:56:27.313975Z"
    }
   },
   "outputs": [],
   "source": [
    "from qdrant_client.http import models as rest"
   ]
  },
  {
   "cell_type": "code",
   "execution_count": null,
   "id": "6ec10b12",
   "metadata": {
    "ExecuteTime": {
     "end_time": "2022-11-02T15:56:28.052549Z",
     "start_time": "2022-11-02T15:56:27.320514Z"
    },
    "code_folding": []
   },
   "outputs": [],
   "source": [
    "vector_size = SimilarityModel.get_encoders_output_size(tweets_qa_model.encoders)\n",
    "client.recreate_collection(\n",
    "    collection_name=\"tweets-qa\",\n",
    "    vectors_config=rest.VectorParams(\n",
    "        size=vector_size,\n",
    "        distance=rest.Distance.COSINE,\n",
    "    ),\n",
    ")"
   ]
  },
  {
   "cell_type": "code",
   "execution_count": null,
   "id": "ca463195",
   "metadata": {
    "ExecuteTime": {
     "end_time": "2022-11-02T16:01:38.209121Z",
     "start_time": "2022-11-02T15:56:28.057661Z"
    }
   },
   "outputs": [],
   "source": [
    "answer_embeddings = tweets_qa_model.encode(train_df[\"Tweet\"].tolist())\n",
    "client.upload_collection(\n",
    "    collection_name=\"tweets-qa\",\n",
    "    vectors=answer_embeddings.tolist(),\n",
    "    payload=[{\"qid\": qid} for qid in train_df[\"qid\"]],\n",
    ")"
   ]
  },
  {
   "cell_type": "code",
   "execution_count": null,
   "id": "9c3243a9",
   "metadata": {
    "ExecuteTime": {
     "end_time": "2022-11-02T16:01:38.220441Z",
     "start_time": "2022-11-02T16:01:38.212686Z"
    }
   },
   "outputs": [],
   "source": [
    "client.get_collection(\"tweets-qa\")"
   ]
  },
  {
   "cell_type": "code",
   "execution_count": null,
   "id": "4e4f1014",
   "metadata": {
    "ExecuteTime": {
     "end_time": "2022-11-02T16:02:43.377003Z",
     "start_time": "2022-11-02T16:01:38.222773Z"
    }
   },
   "outputs": [],
   "source": [
    "question_embeddings = tweets_qa_model.encode(train_df[\"Question\"].tolist())"
   ]
  },
  {
   "cell_type": "code",
   "execution_count": null,
   "id": "9a61b29a",
   "metadata": {
    "ExecuteTime": {
     "end_time": "2022-11-02T16:02:43.399877Z",
     "start_time": "2022-11-02T16:02:43.383913Z"
    }
   },
   "outputs": [],
   "source": [
    "from typing import List\n",
    "\n",
    "\n",
    "def top_k_accuracy(k: int):\n",
    "    found_in_top = 0\n",
    "    for target_qid, question_embedding in zip(train_df[\"qid\"],\n",
    "                                              question_embeddings):\n",
    "        response = client.search(\n",
    "            collection_name=\"tweets-qa\",\n",
    "            query_vector=question_embedding,\n",
    "            limit=k,\n",
    "            with_payload=True,\n",
    "        )\n",
    "        top_qids = [point.payload.get(\"qid\") for point in response]\n",
    "        if target_qid in top_qids:\n",
    "            found_in_top += 1\n",
    "    return found_in_top / train_df.shape[0]"
   ]
  },
  {
   "cell_type": "code",
   "execution_count": null,
   "id": "b029f251",
   "metadata": {
    "ExecuteTime": {
     "end_time": "2022-11-02T16:04:05.118792Z",
     "start_time": "2022-11-02T16:02:43.405187Z"
    }
   },
   "outputs": [],
   "source": [
    "top_k_accuracy(10)"
   ]
  },
  {
   "cell_type": "code",
   "execution_count": null,
   "id": "956139ce",
   "metadata": {
    "ExecuteTime": {
     "end_time": "2022-11-02T16:07:08.503947Z",
     "start_time": "2022-11-02T16:04:05.122344Z"
    }
   },
   "outputs": [],
   "source": [
    "top_k_accuracy(100)"
   ]
  },
  {
   "cell_type": "code",
   "execution_count": null,
   "id": "35ea34d5",
   "metadata": {},
   "outputs": [],
   "source": []
  }
 ],
 "metadata": {
  "kernelspec": {
   "display_name": "Python 3",
   "language": "python",
   "name": "python3"
  },
  "language_info": {
   "codemirror_mode": {
    "name": "ipython",
    "version": 3
   },
   "file_extension": ".py",
   "mimetype": "text/x-python",
   "name": "python",
   "nbconvert_exporter": "python",
   "pygments_lexer": "ipython3",
   "version": "3.9.15"
  }
 },
 "nbformat": 4,
 "nbformat_minor": 5
}
